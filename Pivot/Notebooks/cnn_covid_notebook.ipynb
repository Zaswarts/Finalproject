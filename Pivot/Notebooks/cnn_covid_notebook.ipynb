{
 "cells": [
  {
   "cell_type": "code",
   "execution_count": 4,
   "id": "7d38da0b",
   "metadata": {},
   "outputs": [],
   "source": [
    "import pandas as pd\n",
    "import numpy as np\n",
    "\n",
    "import matplotlib.pyplot as plt\n",
    "\n",
    "import re\n",
    "\n",
    "from collections import Counter\n",
    "\n",
    "import nltk\n",
    "\n",
    "from wordcloud import WordCloud, STOPWORDS, ImageColorGenerator\n",
    "from PIL import Image\n",
    "\n",
    "from sklearn import feature_extraction\n",
    "from nltk.stem.snowball import SnowballStemmer\n",
    "from sklearn.feature_extraction.text import TfidfVectorizer"
   ]
  },
  {
   "cell_type": "markdown",
   "id": "e7ff790f",
   "metadata": {},
   "source": [
    "Import and Omit N/a"
   ]
  },
  {
   "cell_type": "code",
   "execution_count": 5,
   "id": "51355d39",
   "metadata": {
    "scrolled": true
   },
   "outputs": [
    {
     "data": {
      "text/html": [
       "<div>\n",
       "<style scoped>\n",
       "    .dataframe tbody tr th:only-of-type {\n",
       "        vertical-align: middle;\n",
       "    }\n",
       "\n",
       "    .dataframe tbody tr th {\n",
       "        vertical-align: top;\n",
       "    }\n",
       "\n",
       "    .dataframe thead th {\n",
       "        text-align: right;\n",
       "    }\n",
       "</style>\n",
       "<table border=\"1\" class=\"dataframe\">\n",
       "  <thead>\n",
       "    <tr style=\"text-align: right;\">\n",
       "      <th></th>\n",
       "      <th>title</th>\n",
       "      <th>byline</th>\n",
       "      <th>time</th>\n",
       "      <th>content</th>\n",
       "    </tr>\n",
       "  </thead>\n",
       "  <tbody>\n",
       "    <tr>\n",
       "      <th>0</th>\n",
       "      <td>Justice Department charges 5 people with helpi...</td>\n",
       "      <td>By  Katelyn Polantz ,  Kara Scannell  and  Han...</td>\n",
       "      <td>Updated 4:41 PM ET, Wed March 16, 2022</td>\n",
       "      <td>(CNN) The Justice Department has charged five...</td>\n",
       "    </tr>\n",
       "    <tr>\n",
       "      <th>1</th>\n",
       "      <td>White House will unveil new data-sharing initi...</td>\n",
       "      <td>By  John Harwood , CNN</td>\n",
       "      <td>Updated 5:09 AM ET, Tue March 15, 2022</td>\n",
       "      <td>(CNN) The  Biden White House , trying to expa...</td>\n",
       "    </tr>\n",
       "    <tr>\n",
       "      <th>2</th>\n",
       "      <td>Why 'Turning Red' gives me hope</td>\n",
       "      <td>Opinion by Vanessa Hua</td>\n",
       "      <td>Updated 4:21 PM ET, Wed March 16, 2022</td>\n",
       "      <td>Vanessa Hua  is the author of the forthcoming ...</td>\n",
       "    </tr>\n",
       "    <tr>\n",
       "      <th>3</th>\n",
       "      <td>5 things to know for March 16: Ukraine, Pandem...</td>\n",
       "      <td>By Alexandra Meeks, CNN</td>\n",
       "      <td>Updated 6:44 AM ET, Wed March 16, 2022</td>\n",
       "      <td>Get '5 Things' in your inbox If your day doesn...</td>\n",
       "    </tr>\n",
       "    <tr>\n",
       "      <th>4</th>\n",
       "      <td>Senate votes to repeal travel mask mandates in...</td>\n",
       "      <td>By  Ali Zaslav  and  Ted Barrett , CNN</td>\n",
       "      <td>Updated 7:16 PM ET, Tue March 15, 2022</td>\n",
       "      <td>(CNN) The Senate on Tuesday passed a resoluti...</td>\n",
       "    </tr>\n",
       "  </tbody>\n",
       "</table>\n",
       "</div>"
      ],
      "text/plain": [
       "                                               title  \\\n",
       "0  Justice Department charges 5 people with helpi...   \n",
       "1  White House will unveil new data-sharing initi...   \n",
       "2                    Why 'Turning Red' gives me hope   \n",
       "3  5 things to know for March 16: Ukraine, Pandem...   \n",
       "4  Senate votes to repeal travel mask mandates in...   \n",
       "\n",
       "                                              byline  \\\n",
       "0  By  Katelyn Polantz ,  Kara Scannell  and  Han...   \n",
       "1                             By  John Harwood , CNN   \n",
       "2                             Opinion by Vanessa Hua   \n",
       "3                            By Alexandra Meeks, CNN   \n",
       "4             By  Ali Zaslav  and  Ted Barrett , CNN   \n",
       "\n",
       "                                      time  \\\n",
       "0  Updated 4:41 PM ET, Wed March 16, 2022    \n",
       "1  Updated 5:09 AM ET, Tue March 15, 2022    \n",
       "2  Updated 4:21 PM ET, Wed March 16, 2022    \n",
       "3  Updated 6:44 AM ET, Wed March 16, 2022    \n",
       "4  Updated 7:16 PM ET, Tue March 15, 2022    \n",
       "\n",
       "                                             content  \n",
       "0   (CNN) The Justice Department has charged five...  \n",
       "1   (CNN) The  Biden White House , trying to expa...  \n",
       "2  Vanessa Hua  is the author of the forthcoming ...  \n",
       "3  Get '5 Things' in your inbox If your day doesn...  \n",
       "4   (CNN) The Senate on Tuesday passed a resoluti...  "
      ]
     },
     "execution_count": 5,
     "metadata": {},
     "output_type": "execute_result"
    }
   ],
   "source": [
    "cnn_covid = pd.read_csv (r'C:\\Users\\zach\\cnnspider.csv')\n",
    "cnn_covid.dropna(inplace = True)\n",
    "cnn_covid.head()"
   ]
  },
  {
   "cell_type": "markdown",
   "id": "2087e1f9",
   "metadata": {},
   "source": [
    "Formatting Dates"
   ]
  },
  {
   "cell_type": "code",
   "execution_count": 6,
   "id": "e32f5670",
   "metadata": {},
   "outputs": [
    {
     "data": {
      "text/html": [
       "<div>\n",
       "<style scoped>\n",
       "    .dataframe tbody tr th:only-of-type {\n",
       "        vertical-align: middle;\n",
       "    }\n",
       "\n",
       "    .dataframe tbody tr th {\n",
       "        vertical-align: top;\n",
       "    }\n",
       "\n",
       "    .dataframe thead th {\n",
       "        text-align: right;\n",
       "    }\n",
       "</style>\n",
       "<table border=\"1\" class=\"dataframe\">\n",
       "  <thead>\n",
       "    <tr style=\"text-align: right;\">\n",
       "      <th></th>\n",
       "      <th>title</th>\n",
       "      <th>byline</th>\n",
       "      <th>time</th>\n",
       "      <th>content</th>\n",
       "      <th>date</th>\n",
       "    </tr>\n",
       "  </thead>\n",
       "  <tbody>\n",
       "    <tr>\n",
       "      <th>0</th>\n",
       "      <td>Justice Department charges 5 people with helpi...</td>\n",
       "      <td>By  Katelyn Polantz ,  Kara Scannell  and  Han...</td>\n",
       "      <td>Updated 4:41 PM ET, Wed March 16, 2022</td>\n",
       "      <td>(CNN) The Justice Department has charged five...</td>\n",
       "      <td>2022-03-16</td>\n",
       "    </tr>\n",
       "    <tr>\n",
       "      <th>1</th>\n",
       "      <td>White House will unveil new data-sharing initi...</td>\n",
       "      <td>By  John Harwood , CNN</td>\n",
       "      <td>Updated 5:09 AM ET, Tue March 15, 2022</td>\n",
       "      <td>(CNN) The  Biden White House , trying to expa...</td>\n",
       "      <td>2022-03-15</td>\n",
       "    </tr>\n",
       "    <tr>\n",
       "      <th>2</th>\n",
       "      <td>Why 'Turning Red' gives me hope</td>\n",
       "      <td>Opinion by Vanessa Hua</td>\n",
       "      <td>Updated 4:21 PM ET, Wed March 16, 2022</td>\n",
       "      <td>Vanessa Hua  is the author of the forthcoming ...</td>\n",
       "      <td>2022-03-16</td>\n",
       "    </tr>\n",
       "    <tr>\n",
       "      <th>3</th>\n",
       "      <td>5 things to know for March 16: Ukraine, Pandem...</td>\n",
       "      <td>By Alexandra Meeks, CNN</td>\n",
       "      <td>Updated 6:44 AM ET, Wed March 16, 2022</td>\n",
       "      <td>Get '5 Things' in your inbox If your day doesn...</td>\n",
       "      <td>2022-03-16</td>\n",
       "    </tr>\n",
       "    <tr>\n",
       "      <th>4</th>\n",
       "      <td>Senate votes to repeal travel mask mandates in...</td>\n",
       "      <td>By  Ali Zaslav  and  Ted Barrett , CNN</td>\n",
       "      <td>Updated 7:16 PM ET, Tue March 15, 2022</td>\n",
       "      <td>(CNN) The Senate on Tuesday passed a resoluti...</td>\n",
       "      <td>2022-03-15</td>\n",
       "    </tr>\n",
       "  </tbody>\n",
       "</table>\n",
       "</div>"
      ],
      "text/plain": [
       "                                               title  \\\n",
       "0  Justice Department charges 5 people with helpi...   \n",
       "1  White House will unveil new data-sharing initi...   \n",
       "2                    Why 'Turning Red' gives me hope   \n",
       "3  5 things to know for March 16: Ukraine, Pandem...   \n",
       "4  Senate votes to repeal travel mask mandates in...   \n",
       "\n",
       "                                              byline  \\\n",
       "0  By  Katelyn Polantz ,  Kara Scannell  and  Han...   \n",
       "1                             By  John Harwood , CNN   \n",
       "2                             Opinion by Vanessa Hua   \n",
       "3                            By Alexandra Meeks, CNN   \n",
       "4             By  Ali Zaslav  and  Ted Barrett , CNN   \n",
       "\n",
       "                                      time  \\\n",
       "0  Updated 4:41 PM ET, Wed March 16, 2022    \n",
       "1  Updated 5:09 AM ET, Tue March 15, 2022    \n",
       "2  Updated 4:21 PM ET, Wed March 16, 2022    \n",
       "3  Updated 6:44 AM ET, Wed March 16, 2022    \n",
       "4  Updated 7:16 PM ET, Tue March 15, 2022    \n",
       "\n",
       "                                             content       date  \n",
       "0   (CNN) The Justice Department has charged five... 2022-03-16  \n",
       "1   (CNN) The  Biden White House , trying to expa... 2022-03-15  \n",
       "2  Vanessa Hua  is the author of the forthcoming ... 2022-03-16  \n",
       "3  Get '5 Things' in your inbox If your day doesn... 2022-03-16  \n",
       "4   (CNN) The Senate on Tuesday passed a resoluti... 2022-03-15  "
      ]
     },
     "execution_count": 6,
     "metadata": {},
     "output_type": "execute_result"
    }
   ],
   "source": [
    "cnn_covid['date'] = cnn_covid['time'].apply(lambda x: x.split('ET,')[1][4:].strip())\n",
    "cnn_covid.date = pd.to_datetime(cnn_covid.date, format = '%B %d, %Y')\n",
    "\n",
    "cnn_covid.head()"
   ]
  },
  {
   "cell_type": "markdown",
   "id": "0dc9162f",
   "metadata": {},
   "source": [
    "Cleaning articles of unessecary content like embedded javascript, etc."
   ]
  },
  {
   "cell_type": "code",
   "execution_count": 7,
   "id": "dadb341b",
   "metadata": {},
   "outputs": [],
   "source": [
    "cnn_covid['content'] = cnn_covid['content'].apply(lambda x: x.lower())\n",
    "cnn_covid.content = cnn_covid.content.apply(lambda x: re.sub(r'use\\sstrict.*?env=prod\"}', '', x))"
   ]
  },
  {
   "cell_type": "markdown",
   "id": "0fdd92fb",
   "metadata": {},
   "source": [
    "Adding month_year column"
   ]
  },
  {
   "cell_type": "code",
   "execution_count": 8,
   "id": "f6dc2d93",
   "metadata": {},
   "outputs": [
    {
     "data": {
      "text/html": [
       "<div>\n",
       "<style scoped>\n",
       "    .dataframe tbody tr th:only-of-type {\n",
       "        vertical-align: middle;\n",
       "    }\n",
       "\n",
       "    .dataframe tbody tr th {\n",
       "        vertical-align: top;\n",
       "    }\n",
       "\n",
       "    .dataframe thead th {\n",
       "        text-align: right;\n",
       "    }\n",
       "</style>\n",
       "<table border=\"1\" class=\"dataframe\">\n",
       "  <thead>\n",
       "    <tr style=\"text-align: right;\">\n",
       "      <th></th>\n",
       "      <th>title</th>\n",
       "      <th>byline</th>\n",
       "      <th>time</th>\n",
       "      <th>content</th>\n",
       "      <th>date</th>\n",
       "      <th>month_year</th>\n",
       "    </tr>\n",
       "  </thead>\n",
       "  <tbody>\n",
       "    <tr>\n",
       "      <th>0</th>\n",
       "      <td>Justice Department charges 5 people with helpi...</td>\n",
       "      <td>By  Katelyn Polantz ,  Kara Scannell  and  Han...</td>\n",
       "      <td>Updated 4:41 PM ET, Wed March 16, 2022</td>\n",
       "      <td>(cnn) the justice department has charged five...</td>\n",
       "      <td>2022-03-16</td>\n",
       "      <td>2022-03</td>\n",
       "    </tr>\n",
       "    <tr>\n",
       "      <th>1</th>\n",
       "      <td>White House will unveil new data-sharing initi...</td>\n",
       "      <td>By  John Harwood , CNN</td>\n",
       "      <td>Updated 5:09 AM ET, Tue March 15, 2022</td>\n",
       "      <td>(cnn) the  biden white house , trying to expa...</td>\n",
       "      <td>2022-03-15</td>\n",
       "      <td>2022-03</td>\n",
       "    </tr>\n",
       "    <tr>\n",
       "      <th>2</th>\n",
       "      <td>Why 'Turning Red' gives me hope</td>\n",
       "      <td>Opinion by Vanessa Hua</td>\n",
       "      <td>Updated 4:21 PM ET, Wed March 16, 2022</td>\n",
       "      <td>vanessa hua  is the author of the forthcoming ...</td>\n",
       "      <td>2022-03-16</td>\n",
       "      <td>2022-03</td>\n",
       "    </tr>\n",
       "    <tr>\n",
       "      <th>3</th>\n",
       "      <td>5 things to know for March 16: Ukraine, Pandem...</td>\n",
       "      <td>By Alexandra Meeks, CNN</td>\n",
       "      <td>Updated 6:44 AM ET, Wed March 16, 2022</td>\n",
       "      <td>get '5 things' in your inbox if your day doesn...</td>\n",
       "      <td>2022-03-16</td>\n",
       "      <td>2022-03</td>\n",
       "    </tr>\n",
       "    <tr>\n",
       "      <th>4</th>\n",
       "      <td>Senate votes to repeal travel mask mandates in...</td>\n",
       "      <td>By  Ali Zaslav  and  Ted Barrett , CNN</td>\n",
       "      <td>Updated 7:16 PM ET, Tue March 15, 2022</td>\n",
       "      <td>(cnn) the senate on tuesday passed a resoluti...</td>\n",
       "      <td>2022-03-15</td>\n",
       "      <td>2022-03</td>\n",
       "    </tr>\n",
       "  </tbody>\n",
       "</table>\n",
       "</div>"
      ],
      "text/plain": [
       "                                               title  \\\n",
       "0  Justice Department charges 5 people with helpi...   \n",
       "1  White House will unveil new data-sharing initi...   \n",
       "2                    Why 'Turning Red' gives me hope   \n",
       "3  5 things to know for March 16: Ukraine, Pandem...   \n",
       "4  Senate votes to repeal travel mask mandates in...   \n",
       "\n",
       "                                              byline  \\\n",
       "0  By  Katelyn Polantz ,  Kara Scannell  and  Han...   \n",
       "1                             By  John Harwood , CNN   \n",
       "2                             Opinion by Vanessa Hua   \n",
       "3                            By Alexandra Meeks, CNN   \n",
       "4             By  Ali Zaslav  and  Ted Barrett , CNN   \n",
       "\n",
       "                                      time  \\\n",
       "0  Updated 4:41 PM ET, Wed March 16, 2022    \n",
       "1  Updated 5:09 AM ET, Tue March 15, 2022    \n",
       "2  Updated 4:21 PM ET, Wed March 16, 2022    \n",
       "3  Updated 6:44 AM ET, Wed March 16, 2022    \n",
       "4  Updated 7:16 PM ET, Tue March 15, 2022    \n",
       "\n",
       "                                             content       date month_year  \n",
       "0   (cnn) the justice department has charged five... 2022-03-16    2022-03  \n",
       "1   (cnn) the  biden white house , trying to expa... 2022-03-15    2022-03  \n",
       "2  vanessa hua  is the author of the forthcoming ... 2022-03-16    2022-03  \n",
       "3  get '5 things' in your inbox if your day doesn... 2022-03-16    2022-03  \n",
       "4   (cnn) the senate on tuesday passed a resoluti... 2022-03-15    2022-03  "
      ]
     },
     "execution_count": 8,
     "metadata": {},
     "output_type": "execute_result"
    }
   ],
   "source": [
    "cnn_covid['month_year'] = pd.to_datetime(cnn_covid['date']).dt.to_period('M')\n",
    "cnn_covid.head()"
   ]
  },
  {
   "cell_type": "markdown",
   "id": "afa46d92",
   "metadata": {},
   "source": [
    "Checking month day ocurrences for making the timeframes the same between datasets"
   ]
  },
  {
   "cell_type": "code",
   "execution_count": 9,
   "id": "2cabae19",
   "metadata": {},
   "outputs": [
    {
     "data": {
      "text/plain": [
       "Text(0, 0.5, 'count')"
      ]
     },
     "execution_count": 9,
     "metadata": {},
     "output_type": "execute_result"
    },
    {
     "data": {
      "image/png": "[encoded data removed]",
      "text/plain": [
       "<Figure size 432x288 with 1 Axes>"
      ]
     },
     "metadata": {
      "needs_background": "light"
     },
     "output_type": "display_data"
    }
   ],
   "source": [
    "md_check = cnn_covid['month_year'].value_counts().plot(kind='bar')\n",
    "md_check.set_title(\"md_check\")\n",
    "md_check.set_xlabel(\"month/year\")\n",
    "md_check.set_ylabel(\"count\")"
   ]
  },
  {
   "cell_type": "markdown",
   "id": "198bbf59",
   "metadata": {},
   "source": [
    "selecting dates to makes timeframes in datasets equal"
   ]
  },
  {
   "cell_type": "code",
   "execution_count": 10,
   "id": "aa190bbf",
   "metadata": {},
   "outputs": [
    {
     "data": {
      "text/html": [
       "<div>\n",
       "<style scoped>\n",
       "    .dataframe tbody tr th:only-of-type {\n",
       "        vertical-align: middle;\n",
       "    }\n",
       "\n",
       "    .dataframe tbody tr th {\n",
       "        vertical-align: top;\n",
       "    }\n",
       "\n",
       "    .dataframe thead th {\n",
       "        text-align: right;\n",
       "    }\n",
       "</style>\n",
       "<table border=\"1\" class=\"dataframe\">\n",
       "  <thead>\n",
       "    <tr style=\"text-align: right;\">\n",
       "      <th></th>\n",
       "      <th>title</th>\n",
       "      <th>byline</th>\n",
       "      <th>time</th>\n",
       "      <th>content</th>\n",
       "      <th>date</th>\n",
       "    </tr>\n",
       "    <tr>\n",
       "      <th>month_year</th>\n",
       "      <th></th>\n",
       "      <th></th>\n",
       "      <th></th>\n",
       "      <th></th>\n",
       "      <th></th>\n",
       "    </tr>\n",
       "  </thead>\n",
       "  <tbody>\n",
       "    <tr>\n",
       "      <th>2022-03</th>\n",
       "      <td>Justice Department charges 5 people with helpi...</td>\n",
       "      <td>By  Katelyn Polantz ,  Kara Scannell  and  Han...</td>\n",
       "      <td>Updated 4:41 PM ET, Wed March 16, 2022</td>\n",
       "      <td>(cnn) the justice department has charged five...</td>\n",
       "      <td>2022-03-16</td>\n",
       "    </tr>\n",
       "    <tr>\n",
       "      <th>2022-03</th>\n",
       "      <td>White House will unveil new data-sharing initi...</td>\n",
       "      <td>By  John Harwood , CNN</td>\n",
       "      <td>Updated 5:09 AM ET, Tue March 15, 2022</td>\n",
       "      <td>(cnn) the  biden white house , trying to expa...</td>\n",
       "      <td>2022-03-15</td>\n",
       "    </tr>\n",
       "    <tr>\n",
       "      <th>2022-03</th>\n",
       "      <td>Why 'Turning Red' gives me hope</td>\n",
       "      <td>Opinion by Vanessa Hua</td>\n",
       "      <td>Updated 4:21 PM ET, Wed March 16, 2022</td>\n",
       "      <td>vanessa hua  is the author of the forthcoming ...</td>\n",
       "      <td>2022-03-16</td>\n",
       "    </tr>\n",
       "    <tr>\n",
       "      <th>2022-03</th>\n",
       "      <td>5 things to know for March 16: Ukraine, Pandem...</td>\n",
       "      <td>By Alexandra Meeks, CNN</td>\n",
       "      <td>Updated 6:44 AM ET, Wed March 16, 2022</td>\n",
       "      <td>get '5 things' in your inbox if your day doesn...</td>\n",
       "      <td>2022-03-16</td>\n",
       "    </tr>\n",
       "    <tr>\n",
       "      <th>2022-03</th>\n",
       "      <td>Senate votes to repeal travel mask mandates in...</td>\n",
       "      <td>By  Ali Zaslav  and  Ted Barrett , CNN</td>\n",
       "      <td>Updated 7:16 PM ET, Tue March 15, 2022</td>\n",
       "      <td>(cnn) the senate on tuesday passed a resoluti...</td>\n",
       "      <td>2022-03-15</td>\n",
       "    </tr>\n",
       "  </tbody>\n",
       "</table>\n",
       "</div>"
      ],
      "text/plain": [
       "                                                        title  \\\n",
       "month_year                                                      \n",
       "2022-03     Justice Department charges 5 people with helpi...   \n",
       "2022-03     White House will unveil new data-sharing initi...   \n",
       "2022-03                       Why 'Turning Red' gives me hope   \n",
       "2022-03     5 things to know for March 16: Ukraine, Pandem...   \n",
       "2022-03     Senate votes to repeal travel mask mandates in...   \n",
       "\n",
       "                                                       byline  \\\n",
       "month_year                                                      \n",
       "2022-03     By  Katelyn Polantz ,  Kara Scannell  and  Han...   \n",
       "2022-03                                By  John Harwood , CNN   \n",
       "2022-03                                Opinion by Vanessa Hua   \n",
       "2022-03                               By Alexandra Meeks, CNN   \n",
       "2022-03                By  Ali Zaslav  and  Ted Barrett , CNN   \n",
       "\n",
       "                                               time  \\\n",
       "month_year                                            \n",
       "2022-03     Updated 4:41 PM ET, Wed March 16, 2022    \n",
       "2022-03     Updated 5:09 AM ET, Tue March 15, 2022    \n",
       "2022-03     Updated 4:21 PM ET, Wed March 16, 2022    \n",
       "2022-03     Updated 6:44 AM ET, Wed March 16, 2022    \n",
       "2022-03     Updated 7:16 PM ET, Tue March 15, 2022    \n",
       "\n",
       "                                                      content       date  \n",
       "month_year                                                                \n",
       "2022-03      (cnn) the justice department has charged five... 2022-03-16  \n",
       "2022-03      (cnn) the  biden white house , trying to expa... 2022-03-15  \n",
       "2022-03     vanessa hua  is the author of the forthcoming ... 2022-03-16  \n",
       "2022-03     get '5 things' in your inbox if your day doesn... 2022-03-16  \n",
       "2022-03      (cnn) the senate on tuesday passed a resoluti... 2022-03-15  "
      ]
     },
     "execution_count": 10,
     "metadata": {},
     "output_type": "execute_result"
    }
   ],
   "source": [
    "cnn_covid.set_index('month_year').head()"
   ]
  },
  {
   "cell_type": "markdown",
   "id": "9dd42434",
   "metadata": {},
   "source": [
    "Selecting dates to makes timeframes in datasets equal"
   ]
  },
  {
   "cell_type": "code",
   "execution_count": 11,
   "id": "95df67af",
   "metadata": {},
   "outputs": [
    {
     "data": {
      "text/html": [
       "<div>\n",
       "<style scoped>\n",
       "    .dataframe tbody tr th:only-of-type {\n",
       "        vertical-align: middle;\n",
       "    }\n",
       "\n",
       "    .dataframe tbody tr th {\n",
       "        vertical-align: top;\n",
       "    }\n",
       "\n",
       "    .dataframe thead th {\n",
       "        text-align: right;\n",
       "    }\n",
       "</style>\n",
       "<table border=\"1\" class=\"dataframe\">\n",
       "  <thead>\n",
       "    <tr style=\"text-align: right;\">\n",
       "      <th></th>\n",
       "      <th>title</th>\n",
       "      <th>byline</th>\n",
       "      <th>time</th>\n",
       "      <th>content</th>\n",
       "      <th>date</th>\n",
       "      <th>month_year</th>\n",
       "    </tr>\n",
       "  </thead>\n",
       "  <tbody>\n",
       "    <tr>\n",
       "      <th>0</th>\n",
       "      <td>Justice Department charges 5 people with helpi...</td>\n",
       "      <td>By  Katelyn Polantz ,  Kara Scannell  and  Han...</td>\n",
       "      <td>Updated 4:41 PM ET, Wed March 16, 2022</td>\n",
       "      <td>(cnn) the justice department has charged five...</td>\n",
       "      <td>2022-03-16</td>\n",
       "      <td>2022-03</td>\n",
       "    </tr>\n",
       "    <tr>\n",
       "      <th>1</th>\n",
       "      <td>White House will unveil new data-sharing initi...</td>\n",
       "      <td>By  John Harwood , CNN</td>\n",
       "      <td>Updated 5:09 AM ET, Tue March 15, 2022</td>\n",
       "      <td>(cnn) the  biden white house , trying to expa...</td>\n",
       "      <td>2022-03-15</td>\n",
       "      <td>2022-03</td>\n",
       "    </tr>\n",
       "    <tr>\n",
       "      <th>2</th>\n",
       "      <td>Why 'Turning Red' gives me hope</td>\n",
       "      <td>Opinion by Vanessa Hua</td>\n",
       "      <td>Updated 4:21 PM ET, Wed March 16, 2022</td>\n",
       "      <td>vanessa hua  is the author of the forthcoming ...</td>\n",
       "      <td>2022-03-16</td>\n",
       "      <td>2022-03</td>\n",
       "    </tr>\n",
       "    <tr>\n",
       "      <th>3</th>\n",
       "      <td>5 things to know for March 16: Ukraine, Pandem...</td>\n",
       "      <td>By Alexandra Meeks, CNN</td>\n",
       "      <td>Updated 6:44 AM ET, Wed March 16, 2022</td>\n",
       "      <td>get '5 things' in your inbox if your day doesn...</td>\n",
       "      <td>2022-03-16</td>\n",
       "      <td>2022-03</td>\n",
       "    </tr>\n",
       "    <tr>\n",
       "      <th>4</th>\n",
       "      <td>Senate votes to repeal travel mask mandates in...</td>\n",
       "      <td>By  Ali Zaslav  and  Ted Barrett , CNN</td>\n",
       "      <td>Updated 7:16 PM ET, Tue March 15, 2022</td>\n",
       "      <td>(cnn) the senate on tuesday passed a resoluti...</td>\n",
       "      <td>2022-03-15</td>\n",
       "      <td>2022-03</td>\n",
       "    </tr>\n",
       "  </tbody>\n",
       "</table>\n",
       "</div>"
      ],
      "text/plain": [
       "                                               title  \\\n",
       "0  Justice Department charges 5 people with helpi...   \n",
       "1  White House will unveil new data-sharing initi...   \n",
       "2                    Why 'Turning Red' gives me hope   \n",
       "3  5 things to know for March 16: Ukraine, Pandem...   \n",
       "4  Senate votes to repeal travel mask mandates in...   \n",
       "\n",
       "                                              byline  \\\n",
       "0  By  Katelyn Polantz ,  Kara Scannell  and  Han...   \n",
       "1                             By  John Harwood , CNN   \n",
       "2                             Opinion by Vanessa Hua   \n",
       "3                            By Alexandra Meeks, CNN   \n",
       "4             By  Ali Zaslav  and  Ted Barrett , CNN   \n",
       "\n",
       "                                      time  \\\n",
       "0  Updated 4:41 PM ET, Wed March 16, 2022    \n",
       "1  Updated 5:09 AM ET, Tue March 15, 2022    \n",
       "2  Updated 4:21 PM ET, Wed March 16, 2022    \n",
       "3  Updated 6:44 AM ET, Wed March 16, 2022    \n",
       "4  Updated 7:16 PM ET, Tue March 15, 2022    \n",
       "\n",
       "                                             content       date month_year  \n",
       "0   (cnn) the justice department has charged five... 2022-03-16    2022-03  \n",
       "1   (cnn) the  biden white house , trying to expa... 2022-03-15    2022-03  \n",
       "2  vanessa hua  is the author of the forthcoming ... 2022-03-16    2022-03  \n",
       "3  get '5 things' in your inbox if your day doesn... 2022-03-16    2022-03  \n",
       "4   (cnn) the senate on tuesday passed a resoluti... 2022-03-15    2022-03  "
      ]
     },
     "execution_count": 11,
     "metadata": {},
     "output_type": "execute_result"
    }
   ],
   "source": [
    "cnn_covid_cleaned = cnn_covid[cnn_covid['month_year'].between('2021-12' , '2022-03')].copy()\n",
    "cnn_covid_cleaned.head()"
   ]
  },
  {
   "cell_type": "markdown",
   "id": "5642dace",
   "metadata": {},
   "source": [
    "Exporting cleaned data to join with other cnn data to make wordclouds"
   ]
  },
  {
   "cell_type": "code",
   "execution_count": 14,
   "id": "5f657c44",
   "metadata": {},
   "outputs": [],
   "source": [
    "cnn_covid_cleaned.to_csv (r'C:\\Users\\zach\\cnn_covid_cleaned.csv', header=True)"
   ]
  },
  {
   "cell_type": "markdown",
   "id": "d5449e5d",
   "metadata": {},
   "source": [
    "Verifying the correct period of time was selected"
   ]
  },
  {
   "cell_type": "code",
   "execution_count": 12,
   "id": "fd777f20",
   "metadata": {},
   "outputs": [
    {
     "data": {
      "text/plain": [
       "Text(0, 0.5, 'count')"
      ]
     },
     "execution_count": 12,
     "metadata": {},
     "output_type": "execute_result"
    },
    {
     "data": {
      "image/png": "[encoded data removed]",
      "text/plain": [
       "<Figure size 432x288 with 1 Axes>"
      ]
     },
     "metadata": {
      "needs_background": "light"
     },
     "output_type": "display_data"
    }
   ],
   "source": [
    "md_check2 = cnn_covid_cleaned['month_year'].value_counts().plot(kind='bar')\n",
    "md_check2.set_title(\"md_check\")\n",
    "md_check2.set_xlabel(\"month/year\")\n",
    "md_check2.set_ylabel(\"count\")"
   ]
  }
 ],
 "metadata": {
  "kernelspec": {
   "display_name": "Python 3 (ipykernel)",
   "language": "python",
   "name": "python3"
  },
  "language_info": {
   "codemirror_mode": {
    "name": "ipython",
    "version": 3
   },
   "file_extension": ".py",
   "mimetype": "text/x-python",
   "name": "python",
   "nbconvert_exporter": "python",
   "pygments_lexer": "ipython3",
   "version": "3.9.7"
  }
 },
 "nbformat": 4,
 "nbformat_minor": 5
}
