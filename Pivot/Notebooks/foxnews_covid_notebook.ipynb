{
 "cells": [
  {
   "cell_type": "code",
   "execution_count": 77,
   "id": "7d38da0b",
   "metadata": {},
   "outputs": [],
   "source": [
    "import pandas as pd\n",
    "import numpy as np\n",
    "\n",
    "import matplotlib.pyplot as plt\n",
    "\n",
    "import re\n",
    "\n",
    "from collections import Counter\n",
    "\n",
    "import nltk\n",
    "\n",
    "from wordcloud import WordCloud, STOPWORDS, ImageColorGenerator\n",
    "from PIL import Image\n",
    "\n",
    "from sklearn import feature_extraction\n",
    "from nltk.stem.snowball import SnowballStemmer\n",
    "from sklearn.feature_extraction.text import TfidfVectorizer"
   ]
  },
  {
   "cell_type": "markdown",
   "id": "e7ff790f",
   "metadata": {},
   "source": [
    "Import and Omit N/a"
   ]
  },
  {
   "cell_type": "code",
   "execution_count": 80,
   "id": "51355d39",
   "metadata": {},
   "outputs": [
    {
     "data": {
      "text/html": [
       "<div>\n",
       "<style scoped>\n",
       "    .dataframe tbody tr th:only-of-type {\n",
       "        vertical-align: middle;\n",
       "    }\n",
       "\n",
       "    .dataframe tbody tr th {\n",
       "        vertical-align: top;\n",
       "    }\n",
       "\n",
       "    .dataframe thead th {\n",
       "        text-align: right;\n",
       "    }\n",
       "</style>\n",
       "<table border=\"1\" class=\"dataframe\">\n",
       "  <thead>\n",
       "    <tr style=\"text-align: right;\">\n",
       "      <th></th>\n",
       "      <th>title</th>\n",
       "      <th>byline</th>\n",
       "      <th>time</th>\n",
       "      <th>content</th>\n",
       "    </tr>\n",
       "  </thead>\n",
       "  <tbody>\n",
       "    <tr>\n",
       "      <th>0</th>\n",
       "      <td>COVID loneliness crisis – here's how you can f...</td>\n",
       "      <td>Nicole Saphier, M.D.</td>\n",
       "      <td>March 15, 2022 2:00pm EDT</td>\n",
       "      <td>close     Video   CDC has done a ‘disservice...</td>\n",
       "    </tr>\n",
       "    <tr>\n",
       "      <th>1</th>\n",
       "      <td>Republicans go for kill shot on COVID transpor...</td>\n",
       "      <td>Tyler Olson</td>\n",
       "      <td>March 15, 2022 2:09pm EDT</td>\n",
       "      <td>close     Video   Fox News Flash top headlin...</td>\n",
       "    </tr>\n",
       "    <tr>\n",
       "      <th>2</th>\n",
       "      <td>10 biggest COVID mistakes – Americans deserve ...</td>\n",
       "      <td>Dr. Marty Makary</td>\n",
       "      <td>March 16, 2022 5:00am EDT</td>\n",
       "      <td>close     Video   Dr. Makary: COVID virus 'b...</td>\n",
       "    </tr>\n",
       "    <tr>\n",
       "      <th>3</th>\n",
       "      <td>Lara Trump slams Biden for mask mandates based...</td>\n",
       "      <td>Fox News Staff</td>\n",
       "      <td>March 16, 2022 8:23am EDT</td>\n",
       "      <td>close     Video   Lara Trump rips Biden for ...</td>\n",
       "    </tr>\n",
       "    <tr>\n",
       "      <th>4</th>\n",
       "      <td>Novak Djokovic, Russian players expected to co...</td>\n",
       "      <td>Associated Press</td>\n",
       "      <td>March 16, 2022 9:39am EDT</td>\n",
       "      <td>close     Video   Fox News Flash top headlin...</td>\n",
       "    </tr>\n",
       "  </tbody>\n",
       "</table>\n",
       "</div>"
      ],
      "text/plain": [
       "                                               title                byline  \\\n",
       "0  COVID loneliness crisis – here's how you can f...  Nicole Saphier, M.D.   \n",
       "1  Republicans go for kill shot on COVID transpor...           Tyler Olson   \n",
       "2  10 biggest COVID mistakes – Americans deserve ...      Dr. Marty Makary   \n",
       "3  Lara Trump slams Biden for mask mandates based...        Fox News Staff   \n",
       "4  Novak Djokovic, Russian players expected to co...      Associated Press   \n",
       "\n",
       "                         time  \\\n",
       "0   March 15, 2022 2:00pm EDT   \n",
       "1   March 15, 2022 2:09pm EDT   \n",
       "2   March 16, 2022 5:00am EDT   \n",
       "3   March 16, 2022 8:23am EDT   \n",
       "4   March 16, 2022 9:39am EDT   \n",
       "\n",
       "                                             content  \n",
       "0    close     Video   CDC has done a ‘disservice...  \n",
       "1    close     Video   Fox News Flash top headlin...  \n",
       "2    close     Video   Dr. Makary: COVID virus 'b...  \n",
       "3    close     Video   Lara Trump rips Biden for ...  \n",
       "4    close     Video   Fox News Flash top headlin...  "
      ]
     },
     "execution_count": 80,
     "metadata": {},
     "output_type": "execute_result"
    }
   ],
   "source": [
    "fox_covid = pd.read_csv (r'C:\\Users\\zach\\foxnewsspider.csv')\n",
    "fox_covid.dropna(inplace = True)\n",
    "fox_covid.head()"
   ]
  },
  {
   "cell_type": "code",
   "execution_count": 81,
   "id": "2f586c7c",
   "metadata": {},
   "outputs": [
    {
     "name": "stdout",
     "output_type": "stream",
     "text": [
      "<class 'pandas.core.frame.DataFrame'>\n",
      "Int64Index: 571 entries, 0 to 571\n",
      "Data columns (total 4 columns):\n",
      " #   Column   Non-Null Count  Dtype \n",
      "---  ------   --------------  ----- \n",
      " 0   title    571 non-null    object\n",
      " 1   byline   571 non-null    object\n",
      " 2   time     571 non-null    object\n",
      " 3   content  571 non-null    object\n",
      "dtypes: object(4)\n",
      "memory usage: 22.3+ KB\n"
     ]
    }
   ],
   "source": [
    "fox_covid.info()"
   ]
  },
  {
   "cell_type": "markdown",
   "id": "2087e1f9",
   "metadata": {},
   "source": [
    "Formatting Dates"
   ]
  },
  {
   "cell_type": "code",
   "execution_count": 82,
   "id": "106b5027",
   "metadata": {},
   "outputs": [
    {
     "data": {
      "text/plain": [
       "Index(['title', 'byline', 'time', 'content'], dtype='object')"
      ]
     },
     "execution_count": 82,
     "metadata": {},
     "output_type": "execute_result"
    }
   ],
   "source": [
    "fox_covid.columns"
   ]
  },
  {
   "cell_type": "code",
   "execution_count": 83,
   "id": "e32f5670",
   "metadata": {
    "scrolled": true
   },
   "outputs": [
    {
     "name": "stderr",
     "output_type": "stream",
     "text": [
      "C:\\Users\\zach\\anaconda3\\lib\\site-packages\\dateutil\\parser\\_parser.py:1207: UnknownTimezoneWarning: tzname EDT identified but not understood.  Pass `tzinfos` argument in order to correctly return a timezone-aware datetime.  In a future version, this will raise an exception.\n",
      "  warnings.warn(\"tzname {tzname} identified but not understood.  \"\n",
      "C:\\Users\\zach\\anaconda3\\lib\\site-packages\\dateutil\\parser\\_parser.py:1207: UnknownTimezoneWarning: tzname EST identified but not understood.  Pass `tzinfos` argument in order to correctly return a timezone-aware datetime.  In a future version, this will raise an exception.\n",
      "  warnings.warn(\"tzname {tzname} identified but not understood.  \"\n"
     ]
    },
    {
     "data": {
      "text/html": [
       "<div>\n",
       "<style scoped>\n",
       "    .dataframe tbody tr th:only-of-type {\n",
       "        vertical-align: middle;\n",
       "    }\n",
       "\n",
       "    .dataframe tbody tr th {\n",
       "        vertical-align: top;\n",
       "    }\n",
       "\n",
       "    .dataframe thead th {\n",
       "        text-align: right;\n",
       "    }\n",
       "</style>\n",
       "<table border=\"1\" class=\"dataframe\">\n",
       "  <thead>\n",
       "    <tr style=\"text-align: right;\">\n",
       "      <th></th>\n",
       "      <th>title</th>\n",
       "      <th>byline</th>\n",
       "      <th>date</th>\n",
       "      <th>content</th>\n",
       "    </tr>\n",
       "  </thead>\n",
       "  <tbody>\n",
       "    <tr>\n",
       "      <th>0</th>\n",
       "      <td>COVID loneliness crisis – here's how you can f...</td>\n",
       "      <td>Nicole Saphier, M.D.</td>\n",
       "      <td>2022-03-15 14:00:00</td>\n",
       "      <td>close     Video   CDC has done a ‘disservice...</td>\n",
       "    </tr>\n",
       "    <tr>\n",
       "      <th>1</th>\n",
       "      <td>Republicans go for kill shot on COVID transpor...</td>\n",
       "      <td>Tyler Olson</td>\n",
       "      <td>2022-03-15 14:09:00</td>\n",
       "      <td>close     Video   Fox News Flash top headlin...</td>\n",
       "    </tr>\n",
       "    <tr>\n",
       "      <th>2</th>\n",
       "      <td>10 biggest COVID mistakes – Americans deserve ...</td>\n",
       "      <td>Dr. Marty Makary</td>\n",
       "      <td>2022-03-16 05:00:00</td>\n",
       "      <td>close     Video   Dr. Makary: COVID virus 'b...</td>\n",
       "    </tr>\n",
       "    <tr>\n",
       "      <th>3</th>\n",
       "      <td>Lara Trump slams Biden for mask mandates based...</td>\n",
       "      <td>Fox News Staff</td>\n",
       "      <td>2022-03-16 08:23:00</td>\n",
       "      <td>close     Video   Lara Trump rips Biden for ...</td>\n",
       "    </tr>\n",
       "    <tr>\n",
       "      <th>4</th>\n",
       "      <td>Novak Djokovic, Russian players expected to co...</td>\n",
       "      <td>Associated Press</td>\n",
       "      <td>2022-03-16 09:39:00</td>\n",
       "      <td>close     Video   Fox News Flash top headlin...</td>\n",
       "    </tr>\n",
       "  </tbody>\n",
       "</table>\n",
       "</div>"
      ],
      "text/plain": [
       "                                               title                byline  \\\n",
       "0  COVID loneliness crisis – here's how you can f...  Nicole Saphier, M.D.   \n",
       "1  Republicans go for kill shot on COVID transpor...           Tyler Olson   \n",
       "2  10 biggest COVID mistakes – Americans deserve ...      Dr. Marty Makary   \n",
       "3  Lara Trump slams Biden for mask mandates based...        Fox News Staff   \n",
       "4  Novak Djokovic, Russian players expected to co...      Associated Press   \n",
       "\n",
       "                 date                                            content  \n",
       "0 2022-03-15 14:00:00    close     Video   CDC has done a ‘disservice...  \n",
       "1 2022-03-15 14:09:00    close     Video   Fox News Flash top headlin...  \n",
       "2 2022-03-16 05:00:00    close     Video   Dr. Makary: COVID virus 'b...  \n",
       "3 2022-03-16 08:23:00    close     Video   Lara Trump rips Biden for ...  \n",
       "4 2022-03-16 09:39:00    close     Video   Fox News Flash top headlin...  "
      ]
     },
     "execution_count": 83,
     "metadata": {},
     "output_type": "execute_result"
    }
   ],
   "source": [
    "fox_covid = fox_covid.rename(columns = {'time':'date'})\n",
    "fox_covid.date = fox_covid.date.apply(lambda x: x.strip())\n",
    "fox_covid['date'] = pd.to_datetime(fox_covid['date'])\n",
    "\n",
    "fox_covid.head()"
   ]
  },
  {
   "cell_type": "markdown",
   "id": "0dc9162f",
   "metadata": {},
   "source": [
    "Cleaning articles of unessecary content like embedded javascript, etc."
   ]
  },
  {
   "cell_type": "code",
   "execution_count": 84,
   "id": "dadb341b",
   "metadata": {},
   "outputs": [],
   "source": [
    "fox_covid['content'] = fox_covid['content'].apply(lambda x: x.lower())\n",
    "fox_covid.content = fox_covid.content.apply(lambda x: re.sub(r'use\\sstrict.*?env=prod\"}', '', x))"
   ]
  },
  {
   "cell_type": "markdown",
   "id": "0fdd92fb",
   "metadata": {},
   "source": [
    "Adding month_year column"
   ]
  },
  {
   "cell_type": "code",
   "execution_count": 93,
   "id": "f6dc2d93",
   "metadata": {},
   "outputs": [
    {
     "data": {
      "text/html": [
       "<div>\n",
       "<style scoped>\n",
       "    .dataframe tbody tr th:only-of-type {\n",
       "        vertical-align: middle;\n",
       "    }\n",
       "\n",
       "    .dataframe tbody tr th {\n",
       "        vertical-align: top;\n",
       "    }\n",
       "\n",
       "    .dataframe thead th {\n",
       "        text-align: right;\n",
       "    }\n",
       "</style>\n",
       "<table border=\"1\" class=\"dataframe\">\n",
       "  <thead>\n",
       "    <tr style=\"text-align: right;\">\n",
       "      <th></th>\n",
       "      <th>title</th>\n",
       "      <th>byline</th>\n",
       "      <th>date</th>\n",
       "      <th>content</th>\n",
       "      <th>month_year</th>\n",
       "    </tr>\n",
       "  </thead>\n",
       "  <tbody>\n",
       "    <tr>\n",
       "      <th>0</th>\n",
       "      <td>COVID loneliness crisis – here's how you can f...</td>\n",
       "      <td>Nicole Saphier, M.D.</td>\n",
       "      <td>2022-03-15 14:00:00</td>\n",
       "      <td>close     video   cdc has done a ‘disservice...</td>\n",
       "      <td>2022-03</td>\n",
       "    </tr>\n",
       "    <tr>\n",
       "      <th>1</th>\n",
       "      <td>Republicans go for kill shot on COVID transpor...</td>\n",
       "      <td>Tyler Olson</td>\n",
       "      <td>2022-03-15 14:09:00</td>\n",
       "      <td>close     video   fox news flash top headlin...</td>\n",
       "      <td>2022-03</td>\n",
       "    </tr>\n",
       "    <tr>\n",
       "      <th>2</th>\n",
       "      <td>10 biggest COVID mistakes – Americans deserve ...</td>\n",
       "      <td>Dr. Marty Makary</td>\n",
       "      <td>2022-03-16 05:00:00</td>\n",
       "      <td>close     video   dr. makary: covid virus 'b...</td>\n",
       "      <td>2022-03</td>\n",
       "    </tr>\n",
       "    <tr>\n",
       "      <th>3</th>\n",
       "      <td>Lara Trump slams Biden for mask mandates based...</td>\n",
       "      <td>Fox News Staff</td>\n",
       "      <td>2022-03-16 08:23:00</td>\n",
       "      <td>close     video   lara trump rips biden for ...</td>\n",
       "      <td>2022-03</td>\n",
       "    </tr>\n",
       "    <tr>\n",
       "      <th>4</th>\n",
       "      <td>Novak Djokovic, Russian players expected to co...</td>\n",
       "      <td>Associated Press</td>\n",
       "      <td>2022-03-16 09:39:00</td>\n",
       "      <td>close     video   fox news flash top headlin...</td>\n",
       "      <td>2022-03</td>\n",
       "    </tr>\n",
       "  </tbody>\n",
       "</table>\n",
       "</div>"
      ],
      "text/plain": [
       "                                               title                byline  \\\n",
       "0  COVID loneliness crisis – here's how you can f...  Nicole Saphier, M.D.   \n",
       "1  Republicans go for kill shot on COVID transpor...           Tyler Olson   \n",
       "2  10 biggest COVID mistakes – Americans deserve ...      Dr. Marty Makary   \n",
       "3  Lara Trump slams Biden for mask mandates based...        Fox News Staff   \n",
       "4  Novak Djokovic, Russian players expected to co...      Associated Press   \n",
       "\n",
       "                 date                                            content  \\\n",
       "0 2022-03-15 14:00:00    close     video   cdc has done a ‘disservice...   \n",
       "1 2022-03-15 14:09:00    close     video   fox news flash top headlin...   \n",
       "2 2022-03-16 05:00:00    close     video   dr. makary: covid virus 'b...   \n",
       "3 2022-03-16 08:23:00    close     video   lara trump rips biden for ...   \n",
       "4 2022-03-16 09:39:00    close     video   fox news flash top headlin...   \n",
       "\n",
       "  month_year  \n",
       "0    2022-03  \n",
       "1    2022-03  \n",
       "2    2022-03  \n",
       "3    2022-03  \n",
       "4    2022-03  "
      ]
     },
     "execution_count": 93,
     "metadata": {},
     "output_type": "execute_result"
    }
   ],
   "source": [
    "fox_covid['month_year'] = pd.to_datetime(fox_covid['date']).dt.to_period('M')\n",
    "fox_covid.head()"
   ]
  },
  {
   "cell_type": "markdown",
   "id": "afa46d92",
   "metadata": {},
   "source": [
    "Checking month day ocurrences for making the timeframes the same between datasets"
   ]
  },
  {
   "cell_type": "code",
   "execution_count": 86,
   "id": "2cabae19",
   "metadata": {},
   "outputs": [
    {
     "data": {
      "text/plain": [
       "Text(0, 0.5, 'count')"
      ]
     },
     "execution_count": 86,
     "metadata": {},
     "output_type": "execute_result"
    },
    {
     "data": {
      "image/png": "[encoded data removed]",
      "text/plain": [
       "<Figure size 432x288 with 1 Axes>"
      ]
     },
     "metadata": {
      "needs_background": "light"
     },
     "output_type": "display_data"
    }
   ],
   "source": [
    "md_check = fox_covid['month_year'].value_counts().plot(kind='bar')\n",
    "md_check.set_title(\"md_check\")\n",
    "md_check.set_xlabel(\"month/year\")\n",
    "md_check.set_ylabel(\"count\")"
   ]
  },
  {
   "cell_type": "markdown",
   "id": "a92b7e23",
   "metadata": {},
   "source": [
    "setting the index to the month_year column"
   ]
  },
  {
   "cell_type": "code",
   "execution_count": 106,
   "id": "d7a5a708",
   "metadata": {},
   "outputs": [
    {
     "data": {
      "text/html": [
       "<div>\n",
       "<style scoped>\n",
       "    .dataframe tbody tr th:only-of-type {\n",
       "        vertical-align: middle;\n",
       "    }\n",
       "\n",
       "    .dataframe tbody tr th {\n",
       "        vertical-align: top;\n",
       "    }\n",
       "\n",
       "    .dataframe thead th {\n",
       "        text-align: right;\n",
       "    }\n",
       "</style>\n",
       "<table border=\"1\" class=\"dataframe\">\n",
       "  <thead>\n",
       "    <tr style=\"text-align: right;\">\n",
       "      <th></th>\n",
       "      <th>title</th>\n",
       "      <th>byline</th>\n",
       "      <th>date</th>\n",
       "      <th>content</th>\n",
       "    </tr>\n",
       "    <tr>\n",
       "      <th>month_year</th>\n",
       "      <th></th>\n",
       "      <th></th>\n",
       "      <th></th>\n",
       "      <th></th>\n",
       "    </tr>\n",
       "  </thead>\n",
       "  <tbody>\n",
       "    <tr>\n",
       "      <th>2022-03</th>\n",
       "      <td>COVID loneliness crisis – here's how you can f...</td>\n",
       "      <td>Nicole Saphier, M.D.</td>\n",
       "      <td>2022-03-15 14:00:00</td>\n",
       "      <td>close     video   cdc has done a ‘disservice...</td>\n",
       "    </tr>\n",
       "    <tr>\n",
       "      <th>2022-03</th>\n",
       "      <td>Republicans go for kill shot on COVID transpor...</td>\n",
       "      <td>Tyler Olson</td>\n",
       "      <td>2022-03-15 14:09:00</td>\n",
       "      <td>close     video   fox news flash top headlin...</td>\n",
       "    </tr>\n",
       "    <tr>\n",
       "      <th>2022-03</th>\n",
       "      <td>10 biggest COVID mistakes – Americans deserve ...</td>\n",
       "      <td>Dr. Marty Makary</td>\n",
       "      <td>2022-03-16 05:00:00</td>\n",
       "      <td>close     video   dr. makary: covid virus 'b...</td>\n",
       "    </tr>\n",
       "    <tr>\n",
       "      <th>2022-03</th>\n",
       "      <td>Lara Trump slams Biden for mask mandates based...</td>\n",
       "      <td>Fox News Staff</td>\n",
       "      <td>2022-03-16 08:23:00</td>\n",
       "      <td>close     video   lara trump rips biden for ...</td>\n",
       "    </tr>\n",
       "    <tr>\n",
       "      <th>2022-03</th>\n",
       "      <td>Novak Djokovic, Russian players expected to co...</td>\n",
       "      <td>Associated Press</td>\n",
       "      <td>2022-03-16 09:39:00</td>\n",
       "      <td>close     video   fox news flash top headlin...</td>\n",
       "    </tr>\n",
       "  </tbody>\n",
       "</table>\n",
       "</div>"
      ],
      "text/plain": [
       "                                                        title  \\\n",
       "month_year                                                      \n",
       "2022-03     COVID loneliness crisis – here's how you can f...   \n",
       "2022-03     Republicans go for kill shot on COVID transpor...   \n",
       "2022-03     10 biggest COVID mistakes – Americans deserve ...   \n",
       "2022-03     Lara Trump slams Biden for mask mandates based...   \n",
       "2022-03     Novak Djokovic, Russian players expected to co...   \n",
       "\n",
       "                          byline                date  \\\n",
       "month_year                                             \n",
       "2022-03     Nicole Saphier, M.D. 2022-03-15 14:00:00   \n",
       "2022-03              Tyler Olson 2022-03-15 14:09:00   \n",
       "2022-03         Dr. Marty Makary 2022-03-16 05:00:00   \n",
       "2022-03           Fox News Staff 2022-03-16 08:23:00   \n",
       "2022-03         Associated Press 2022-03-16 09:39:00   \n",
       "\n",
       "                                                      content  \n",
       "month_year                                                     \n",
       "2022-03       close     video   cdc has done a ‘disservice...  \n",
       "2022-03       close     video   fox news flash top headlin...  \n",
       "2022-03       close     video   dr. makary: covid virus 'b...  \n",
       "2022-03       close     video   lara trump rips biden for ...  \n",
       "2022-03       close     video   fox news flash top headlin...  "
      ]
     },
     "execution_count": 106,
     "metadata": {},
     "output_type": "execute_result"
    }
   ],
   "source": [
    "fox_covid.set_index('month_year').head()"
   ]
  },
  {
   "cell_type": "markdown",
   "id": "9dd42434",
   "metadata": {},
   "source": [
    "selecting dates to makes timeframes in datasets equal"
   ]
  },
  {
   "cell_type": "code",
   "execution_count": 109,
   "id": "95df67af",
   "metadata": {},
   "outputs": [
    {
     "data": {
      "text/html": [
       "<div>\n",
       "<style scoped>\n",
       "    .dataframe tbody tr th:only-of-type {\n",
       "        vertical-align: middle;\n",
       "    }\n",
       "\n",
       "    .dataframe tbody tr th {\n",
       "        vertical-align: top;\n",
       "    }\n",
       "\n",
       "    .dataframe thead th {\n",
       "        text-align: right;\n",
       "    }\n",
       "</style>\n",
       "<table border=\"1\" class=\"dataframe\">\n",
       "  <thead>\n",
       "    <tr style=\"text-align: right;\">\n",
       "      <th></th>\n",
       "      <th>title</th>\n",
       "      <th>byline</th>\n",
       "      <th>date</th>\n",
       "      <th>content</th>\n",
       "      <th>month_year</th>\n",
       "    </tr>\n",
       "  </thead>\n",
       "  <tbody>\n",
       "    <tr>\n",
       "      <th>0</th>\n",
       "      <td>COVID loneliness crisis – here's how you can f...</td>\n",
       "      <td>Nicole Saphier, M.D.</td>\n",
       "      <td>2022-03-15 14:00:00</td>\n",
       "      <td>close     video   cdc has done a ‘disservice...</td>\n",
       "      <td>2022-03</td>\n",
       "    </tr>\n",
       "    <tr>\n",
       "      <th>1</th>\n",
       "      <td>Republicans go for kill shot on COVID transpor...</td>\n",
       "      <td>Tyler Olson</td>\n",
       "      <td>2022-03-15 14:09:00</td>\n",
       "      <td>close     video   fox news flash top headlin...</td>\n",
       "      <td>2022-03</td>\n",
       "    </tr>\n",
       "    <tr>\n",
       "      <th>2</th>\n",
       "      <td>10 biggest COVID mistakes – Americans deserve ...</td>\n",
       "      <td>Dr. Marty Makary</td>\n",
       "      <td>2022-03-16 05:00:00</td>\n",
       "      <td>close     video   dr. makary: covid virus 'b...</td>\n",
       "      <td>2022-03</td>\n",
       "    </tr>\n",
       "    <tr>\n",
       "      <th>3</th>\n",
       "      <td>Lara Trump slams Biden for mask mandates based...</td>\n",
       "      <td>Fox News Staff</td>\n",
       "      <td>2022-03-16 08:23:00</td>\n",
       "      <td>close     video   lara trump rips biden for ...</td>\n",
       "      <td>2022-03</td>\n",
       "    </tr>\n",
       "    <tr>\n",
       "      <th>4</th>\n",
       "      <td>Novak Djokovic, Russian players expected to co...</td>\n",
       "      <td>Associated Press</td>\n",
       "      <td>2022-03-16 09:39:00</td>\n",
       "      <td>close     video   fox news flash top headlin...</td>\n",
       "      <td>2022-03</td>\n",
       "    </tr>\n",
       "  </tbody>\n",
       "</table>\n",
       "</div>"
      ],
      "text/plain": [
       "                                               title                byline  \\\n",
       "0  COVID loneliness crisis – here's how you can f...  Nicole Saphier, M.D.   \n",
       "1  Republicans go for kill shot on COVID transpor...           Tyler Olson   \n",
       "2  10 biggest COVID mistakes – Americans deserve ...      Dr. Marty Makary   \n",
       "3  Lara Trump slams Biden for mask mandates based...        Fox News Staff   \n",
       "4  Novak Djokovic, Russian players expected to co...      Associated Press   \n",
       "\n",
       "                 date                                            content  \\\n",
       "0 2022-03-15 14:00:00    close     video   cdc has done a ‘disservice...   \n",
       "1 2022-03-15 14:09:00    close     video   fox news flash top headlin...   \n",
       "2 2022-03-16 05:00:00    close     video   dr. makary: covid virus 'b...   \n",
       "3 2022-03-16 08:23:00    close     video   lara trump rips biden for ...   \n",
       "4 2022-03-16 09:39:00    close     video   fox news flash top headlin...   \n",
       "\n",
       "  month_year  \n",
       "0    2022-03  \n",
       "1    2022-03  \n",
       "2    2022-03  \n",
       "3    2022-03  \n",
       "4    2022-03  "
      ]
     },
     "execution_count": 109,
     "metadata": {},
     "output_type": "execute_result"
    }
   ],
   "source": [
    "fox_covid_cleaned = fox_covid[fox_covid['month_year'].between('2021-12', '2022-03')].copy()\n",
    "fox_covid_cleaned.head()"
   ]
  },
  {
   "cell_type": "markdown",
   "id": "fa91c7c9",
   "metadata": {},
   "source": [
    "Exporting cleaned data to join with other foxnews data to make wordclouds"
   ]
  },
  {
   "cell_type": "code",
   "execution_count": 112,
   "id": "22fa82c4",
   "metadata": {},
   "outputs": [],
   "source": [
    "fox_covid_cleaned.to_csv (r'C:\\Users\\zach\\fox_covid_cleaned.csv', header=True)"
   ]
  },
  {
   "cell_type": "markdown",
   "id": "d5449e5d",
   "metadata": {},
   "source": [
    "Verifying the correct period of time was selected"
   ]
  },
  {
   "cell_type": "code",
   "execution_count": 110,
   "id": "fd777f20",
   "metadata": {},
   "outputs": [
    {
     "data": {
      "text/plain": [
       "Text(0, 0.5, 'count')"
      ]
     },
     "execution_count": 110,
     "metadata": {},
     "output_type": "execute_result"
    },
    {
     "data": {
      "image/png": "[encoded data removed]",
      "text/plain": [
       "<Figure size 432x288 with 1 Axes>"
      ]
     },
     "metadata": {
      "needs_background": "light"
     },
     "output_type": "display_data"
    }
   ],
   "source": [
    "md_check2 = fox_covid_cleaned['month_year'].value_counts().plot(kind='bar')\n",
    "md_check2.set_title(\"md_check\")\n",
    "md_check2.set_xlabel(\"month/year\")\n",
    "md_check2.set_ylabel(\"count\")"
   ]
  }
 ],
 "metadata": {
  "kernelspec": {
   "display_name": "Python 3 (ipykernel)",
   "language": "python",
   "name": "python3"
  },
  "language_info": {
   "codemirror_mode": {
    "name": "ipython",
    "version": 3
   },
   "file_extension": ".py",
   "mimetype": "text/x-python",
   "name": "python",
   "nbconvert_exporter": "python",
   "pygments_lexer": "ipython3",
   "version": "3.9.7"
  }
 },
 "nbformat": 4,
 "nbformat_minor": 5
}
