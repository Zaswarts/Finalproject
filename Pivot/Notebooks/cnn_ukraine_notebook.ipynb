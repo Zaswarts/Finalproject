{
 "cells": [
  {
   "cell_type": "code",
   "execution_count": 16,
   "id": "db82378b",
   "metadata": {},
   "outputs": [],
   "source": [
    "import pandas as pd\n",
    "import numpy as np\n",
    "\n",
    "import matplotlib.pyplot as plt\n",
    "\n",
    "import re\n",
    "\n",
    "from collections import Counter\n",
    "\n",
    "import nltk\n",
    "\n",
    "from wordcloud import WordCloud, STOPWORDS, ImageColorGenerator\n",
    "from PIL import Image\n",
    "\n",
    "from sklearn import feature_extraction\n",
    "from nltk.stem.snowball import SnowballStemmer\n",
    "from sklearn.feature_extraction.text import TfidfVectorizer"
   ]
  },
  {
   "cell_type": "markdown",
   "id": "bb24b743",
   "metadata": {},
   "source": [
    "Import and Omit N/a"
   ]
  },
  {
   "cell_type": "code",
   "execution_count": 17,
   "id": "07ec48c4",
   "metadata": {},
   "outputs": [
    {
     "data": {
      "text/html": [
       "<div>\n",
       "<style scoped>\n",
       "    .dataframe tbody tr th:only-of-type {\n",
       "        vertical-align: middle;\n",
       "    }\n",
       "\n",
       "    .dataframe tbody tr th {\n",
       "        vertical-align: top;\n",
       "    }\n",
       "\n",
       "    .dataframe thead th {\n",
       "        text-align: right;\n",
       "    }\n",
       "</style>\n",
       "<table border=\"1\" class=\"dataframe\">\n",
       "  <thead>\n",
       "    <tr style=\"text-align: right;\">\n",
       "      <th></th>\n",
       "      <th>title</th>\n",
       "      <th>byline</th>\n",
       "      <th>time</th>\n",
       "      <th>content</th>\n",
       "    </tr>\n",
       "  </thead>\n",
       "  <tbody>\n",
       "    <tr>\n",
       "      <th>0</th>\n",
       "      <td>Russia moves to seize hundreds of planes from ...</td>\n",
       "      <td>By  Chris Isidore  and Chris Liakos, CNN Business</td>\n",
       "      <td>Updated 12:02 AM ET, Thu March 17, 2022</td>\n",
       "      <td>New York (CNN Business) Russia is seizing hund...</td>\n",
       "    </tr>\n",
       "    <tr>\n",
       "      <th>1</th>\n",
       "      <td>Zelensky taps national psyches of other countr...</td>\n",
       "      <td>Analysis by  Stephen Collinson , CNN</td>\n",
       "      <td>Updated 6:35 PM ET, Wed March 16, 2022</td>\n",
       "      <td>Washington (CNN) This is President Volodymr  Z...</td>\n",
       "    </tr>\n",
       "    <tr>\n",
       "      <th>2</th>\n",
       "      <td>Rate hikes are here: What does that mean for you?</td>\n",
       "      <td>By  Matt Egan ,  CNN Business</td>\n",
       "      <td>Updated 6:36 PM ET, Wed March 16, 2022</td>\n",
       "      <td>New York (CNN Business) The Covid era of free ...</td>\n",
       "    </tr>\n",
       "    <tr>\n",
       "      <th>3</th>\n",
       "      <td>Harris' deputy press secretary leaving her off...</td>\n",
       "      <td>By  Jasmine Wright  and Sam Fossum, CNN</td>\n",
       "      <td>Updated 11:46 PM ET, Wed March 16, 2022</td>\n",
       "      <td>Washington (CNN) Sabrina Singh,  Vice Presiden...</td>\n",
       "    </tr>\n",
       "    <tr>\n",
       "      <th>4</th>\n",
       "      <td>Russia says it made a payment to avoid default</td>\n",
       "      <td>By  David Goldman , CNN Business</td>\n",
       "      <td>Updated 9:36 PM ET, Wed March 16, 2022</td>\n",
       "      <td>New York (CNN Business) Russia says it has ord...</td>\n",
       "    </tr>\n",
       "  </tbody>\n",
       "</table>\n",
       "</div>"
      ],
      "text/plain": [
       "                                               title  \\\n",
       "0  Russia moves to seize hundreds of planes from ...   \n",
       "1  Zelensky taps national psyches of other countr...   \n",
       "2  Rate hikes are here: What does that mean for you?   \n",
       "3  Harris' deputy press secretary leaving her off...   \n",
       "4     Russia says it made a payment to avoid default   \n",
       "\n",
       "                                              byline  \\\n",
       "0  By  Chris Isidore  and Chris Liakos, CNN Business   \n",
       "1               Analysis by  Stephen Collinson , CNN   \n",
       "2                      By  Matt Egan ,  CNN Business   \n",
       "3            By  Jasmine Wright  and Sam Fossum, CNN   \n",
       "4                   By  David Goldman , CNN Business   \n",
       "\n",
       "                                       time  \\\n",
       "0  Updated 12:02 AM ET, Thu March 17, 2022    \n",
       "1   Updated 6:35 PM ET, Wed March 16, 2022    \n",
       "2   Updated 6:36 PM ET, Wed March 16, 2022    \n",
       "3  Updated 11:46 PM ET, Wed March 16, 2022    \n",
       "4   Updated 9:36 PM ET, Wed March 16, 2022    \n",
       "\n",
       "                                             content  \n",
       "0  New York (CNN Business) Russia is seizing hund...  \n",
       "1  Washington (CNN) This is President Volodymr  Z...  \n",
       "2  New York (CNN Business) The Covid era of free ...  \n",
       "3  Washington (CNN) Sabrina Singh,  Vice Presiden...  \n",
       "4  New York (CNN Business) Russia says it has ord...  "
      ]
     },
     "execution_count": 17,
     "metadata": {},
     "output_type": "execute_result"
    }
   ],
   "source": [
    "cnn_ukraine = pd.read_csv (r'C:\\Users\\zach\\cnnspiderukraine.csv')\n",
    "cnn_ukraine.dropna(inplace = True)\n",
    "cnn_ukraine.head()"
   ]
  },
  {
   "cell_type": "markdown",
   "id": "f1696513",
   "metadata": {},
   "source": [
    "Formatting Dates"
   ]
  },
  {
   "cell_type": "code",
   "execution_count": 18,
   "id": "e65bcba7",
   "metadata": {},
   "outputs": [
    {
     "data": {
      "text/html": [
       "<div>\n",
       "<style scoped>\n",
       "    .dataframe tbody tr th:only-of-type {\n",
       "        vertical-align: middle;\n",
       "    }\n",
       "\n",
       "    .dataframe tbody tr th {\n",
       "        vertical-align: top;\n",
       "    }\n",
       "\n",
       "    .dataframe thead th {\n",
       "        text-align: right;\n",
       "    }\n",
       "</style>\n",
       "<table border=\"1\" class=\"dataframe\">\n",
       "  <thead>\n",
       "    <tr style=\"text-align: right;\">\n",
       "      <th></th>\n",
       "      <th>title</th>\n",
       "      <th>byline</th>\n",
       "      <th>time</th>\n",
       "      <th>content</th>\n",
       "      <th>date</th>\n",
       "    </tr>\n",
       "  </thead>\n",
       "  <tbody>\n",
       "    <tr>\n",
       "      <th>0</th>\n",
       "      <td>Russia moves to seize hundreds of planes from ...</td>\n",
       "      <td>By  Chris Isidore  and Chris Liakos, CNN Business</td>\n",
       "      <td>Updated 12:02 AM ET, Thu March 17, 2022</td>\n",
       "      <td>New York (CNN Business) Russia is seizing hund...</td>\n",
       "      <td>2022-03-17</td>\n",
       "    </tr>\n",
       "    <tr>\n",
       "      <th>1</th>\n",
       "      <td>Zelensky taps national psyches of other countr...</td>\n",
       "      <td>Analysis by  Stephen Collinson , CNN</td>\n",
       "      <td>Updated 6:35 PM ET, Wed March 16, 2022</td>\n",
       "      <td>Washington (CNN) This is President Volodymr  Z...</td>\n",
       "      <td>2022-03-16</td>\n",
       "    </tr>\n",
       "    <tr>\n",
       "      <th>2</th>\n",
       "      <td>Rate hikes are here: What does that mean for you?</td>\n",
       "      <td>By  Matt Egan ,  CNN Business</td>\n",
       "      <td>Updated 6:36 PM ET, Wed March 16, 2022</td>\n",
       "      <td>New York (CNN Business) The Covid era of free ...</td>\n",
       "      <td>2022-03-16</td>\n",
       "    </tr>\n",
       "    <tr>\n",
       "      <th>3</th>\n",
       "      <td>Harris' deputy press secretary leaving her off...</td>\n",
       "      <td>By  Jasmine Wright  and Sam Fossum, CNN</td>\n",
       "      <td>Updated 11:46 PM ET, Wed March 16, 2022</td>\n",
       "      <td>Washington (CNN) Sabrina Singh,  Vice Presiden...</td>\n",
       "      <td>2022-03-16</td>\n",
       "    </tr>\n",
       "    <tr>\n",
       "      <th>4</th>\n",
       "      <td>Russia says it made a payment to avoid default</td>\n",
       "      <td>By  David Goldman , CNN Business</td>\n",
       "      <td>Updated 9:36 PM ET, Wed March 16, 2022</td>\n",
       "      <td>New York (CNN Business) Russia says it has ord...</td>\n",
       "      <td>2022-03-16</td>\n",
       "    </tr>\n",
       "  </tbody>\n",
       "</table>\n",
       "</div>"
      ],
      "text/plain": [
       "                                               title  \\\n",
       "0  Russia moves to seize hundreds of planes from ...   \n",
       "1  Zelensky taps national psyches of other countr...   \n",
       "2  Rate hikes are here: What does that mean for you?   \n",
       "3  Harris' deputy press secretary leaving her off...   \n",
       "4     Russia says it made a payment to avoid default   \n",
       "\n",
       "                                              byline  \\\n",
       "0  By  Chris Isidore  and Chris Liakos, CNN Business   \n",
       "1               Analysis by  Stephen Collinson , CNN   \n",
       "2                      By  Matt Egan ,  CNN Business   \n",
       "3            By  Jasmine Wright  and Sam Fossum, CNN   \n",
       "4                   By  David Goldman , CNN Business   \n",
       "\n",
       "                                       time  \\\n",
       "0  Updated 12:02 AM ET, Thu March 17, 2022    \n",
       "1   Updated 6:35 PM ET, Wed March 16, 2022    \n",
       "2   Updated 6:36 PM ET, Wed March 16, 2022    \n",
       "3  Updated 11:46 PM ET, Wed March 16, 2022    \n",
       "4   Updated 9:36 PM ET, Wed March 16, 2022    \n",
       "\n",
       "                                             content       date  \n",
       "0  New York (CNN Business) Russia is seizing hund... 2022-03-17  \n",
       "1  Washington (CNN) This is President Volodymr  Z... 2022-03-16  \n",
       "2  New York (CNN Business) The Covid era of free ... 2022-03-16  \n",
       "3  Washington (CNN) Sabrina Singh,  Vice Presiden... 2022-03-16  \n",
       "4  New York (CNN Business) Russia says it has ord... 2022-03-16  "
      ]
     },
     "execution_count": 18,
     "metadata": {},
     "output_type": "execute_result"
    }
   ],
   "source": [
    "cnn_ukraine['date'] = cnn_ukraine['time'].apply(lambda x: x.split('ET,')[1][4:].strip())\n",
    "cnn_ukraine.date = pd.to_datetime(cnn_ukraine.date, format = '%B %d, %Y')\n",
    "\n",
    "cnn_ukraine.head()"
   ]
  },
  {
   "cell_type": "markdown",
   "id": "dfe144d4",
   "metadata": {},
   "source": [
    "Cleaning articles of unessecary content like embedded javascript, etc."
   ]
  },
  {
   "cell_type": "code",
   "execution_count": 19,
   "id": "e9a81202",
   "metadata": {},
   "outputs": [],
   "source": [
    "cnn_ukraine['content'] = cnn_ukraine['content'].apply(lambda x: x.lower())\n",
    "cnn_ukraine.content = cnn_ukraine.content.apply(lambda x: re.sub(r'use\\sstrict.*?env=prod\"}', '', x))"
   ]
  },
  {
   "cell_type": "markdown",
   "id": "e339ee6c",
   "metadata": {},
   "source": [
    "Adding month_year column"
   ]
  },
  {
   "cell_type": "code",
   "execution_count": 14,
   "id": "e6b76cab",
   "metadata": {},
   "outputs": [
    {
     "data": {
      "text/html": [
       "<div>\n",
       "<style scoped>\n",
       "    .dataframe tbody tr th:only-of-type {\n",
       "        vertical-align: middle;\n",
       "    }\n",
       "\n",
       "    .dataframe tbody tr th {\n",
       "        vertical-align: top;\n",
       "    }\n",
       "\n",
       "    .dataframe thead th {\n",
       "        text-align: right;\n",
       "    }\n",
       "</style>\n",
       "<table border=\"1\" class=\"dataframe\">\n",
       "  <thead>\n",
       "    <tr style=\"text-align: right;\">\n",
       "      <th></th>\n",
       "      <th>title</th>\n",
       "      <th>byline</th>\n",
       "      <th>time</th>\n",
       "      <th>content</th>\n",
       "      <th>date</th>\n",
       "      <th>month_year</th>\n",
       "    </tr>\n",
       "  </thead>\n",
       "  <tbody>\n",
       "    <tr>\n",
       "      <th>0</th>\n",
       "      <td>Russia moves to seize hundreds of planes from ...</td>\n",
       "      <td>By  Chris Isidore  and Chris Liakos, CNN Business</td>\n",
       "      <td>Updated 12:02 AM ET, Thu March 17, 2022</td>\n",
       "      <td>new york (cnn business) russia is seizing hund...</td>\n",
       "      <td>2022-03-17</td>\n",
       "      <td>2022-03</td>\n",
       "    </tr>\n",
       "    <tr>\n",
       "      <th>1</th>\n",
       "      <td>Zelensky taps national psyches of other countr...</td>\n",
       "      <td>Analysis by  Stephen Collinson , CNN</td>\n",
       "      <td>Updated 6:35 PM ET, Wed March 16, 2022</td>\n",
       "      <td>washington (cnn) this is president volodymr  z...</td>\n",
       "      <td>2022-03-16</td>\n",
       "      <td>2022-03</td>\n",
       "    </tr>\n",
       "    <tr>\n",
       "      <th>2</th>\n",
       "      <td>Rate hikes are here: What does that mean for you?</td>\n",
       "      <td>By  Matt Egan ,  CNN Business</td>\n",
       "      <td>Updated 6:36 PM ET, Wed March 16, 2022</td>\n",
       "      <td>new york (cnn business) the covid era of free ...</td>\n",
       "      <td>2022-03-16</td>\n",
       "      <td>2022-03</td>\n",
       "    </tr>\n",
       "    <tr>\n",
       "      <th>3</th>\n",
       "      <td>Harris' deputy press secretary leaving her off...</td>\n",
       "      <td>By  Jasmine Wright  and Sam Fossum, CNN</td>\n",
       "      <td>Updated 11:46 PM ET, Wed March 16, 2022</td>\n",
       "      <td>washington (cnn) sabrina singh,  vice presiden...</td>\n",
       "      <td>2022-03-16</td>\n",
       "      <td>2022-03</td>\n",
       "    </tr>\n",
       "    <tr>\n",
       "      <th>4</th>\n",
       "      <td>Russia says it made a payment to avoid default</td>\n",
       "      <td>By  David Goldman , CNN Business</td>\n",
       "      <td>Updated 9:36 PM ET, Wed March 16, 2022</td>\n",
       "      <td>new york (cnn business) russia says it has ord...</td>\n",
       "      <td>2022-03-16</td>\n",
       "      <td>2022-03</td>\n",
       "    </tr>\n",
       "  </tbody>\n",
       "</table>\n",
       "</div>"
      ],
      "text/plain": [
       "                                               title  \\\n",
       "0  Russia moves to seize hundreds of planes from ...   \n",
       "1  Zelensky taps national psyches of other countr...   \n",
       "2  Rate hikes are here: What does that mean for you?   \n",
       "3  Harris' deputy press secretary leaving her off...   \n",
       "4     Russia says it made a payment to avoid default   \n",
       "\n",
       "                                              byline  \\\n",
       "0  By  Chris Isidore  and Chris Liakos, CNN Business   \n",
       "1               Analysis by  Stephen Collinson , CNN   \n",
       "2                      By  Matt Egan ,  CNN Business   \n",
       "3            By  Jasmine Wright  and Sam Fossum, CNN   \n",
       "4                   By  David Goldman , CNN Business   \n",
       "\n",
       "                                       time  \\\n",
       "0  Updated 12:02 AM ET, Thu March 17, 2022    \n",
       "1   Updated 6:35 PM ET, Wed March 16, 2022    \n",
       "2   Updated 6:36 PM ET, Wed March 16, 2022    \n",
       "3  Updated 11:46 PM ET, Wed March 16, 2022    \n",
       "4   Updated 9:36 PM ET, Wed March 16, 2022    \n",
       "\n",
       "                                             content       date month_year  \n",
       "0  new york (cnn business) russia is seizing hund... 2022-03-17    2022-03  \n",
       "1  washington (cnn) this is president volodymr  z... 2022-03-16    2022-03  \n",
       "2  new york (cnn business) the covid era of free ... 2022-03-16    2022-03  \n",
       "3  washington (cnn) sabrina singh,  vice presiden... 2022-03-16    2022-03  \n",
       "4  new york (cnn business) russia says it has ord... 2022-03-16    2022-03  "
      ]
     },
     "execution_count": 14,
     "metadata": {},
     "output_type": "execute_result"
    }
   ],
   "source": [
    "cnn_ukraine['month_year'] = pd.to_datetime(cnn_ukraine['date']).dt.to_period('M')\n",
    "cnn_ukraine.head()"
   ]
  },
  {
   "cell_type": "markdown",
   "id": "b6edcc66",
   "metadata": {},
   "source": [
    "Exporting cleaned data to join with other cnn data to make wordclouds"
   ]
  },
  {
   "cell_type": "code",
   "execution_count": 21,
   "id": "e8e1c29e",
   "metadata": {},
   "outputs": [],
   "source": [
    "cnn_ukraine.to_csv (r'C:\\Users\\zach\\cnn_ukraine_cleaned.csv', header=True)"
   ]
  },
  {
   "cell_type": "markdown",
   "id": "b3cb958e",
   "metadata": {},
   "source": [
    "Checking month day ocurrences for making the timeframes the same between datasets"
   ]
  },
  {
   "cell_type": "code",
   "execution_count": 15,
   "id": "f17ba452",
   "metadata": {},
   "outputs": [
    {
     "data": {
      "text/plain": [
       "Text(0, 0.5, 'count')"
      ]
     },
     "execution_count": 15,
     "metadata": {},
     "output_type": "execute_result"
    },
    {
     "data": {
      "image/png": "[encoded data removed]",
      "text/plain": [
       "<Figure size 432x288 with 1 Axes>"
      ]
     },
     "metadata": {
      "needs_background": "light"
     },
     "output_type": "display_data"
    }
   ],
   "source": [
    "md_check = cnn_ukraine['month_year'].value_counts().plot(kind='bar')\n",
    "md_check.set_title(\"md_check\")\n",
    "md_check.set_xlabel(\"month/year\")\n",
    "md_check.set_ylabel(\"count\")"
   ]
  },
  {
   "cell_type": "markdown",
   "id": "56925849",
   "metadata": {},
   "source": [
    "Timeframe in dataset is already equal to the rest"
   ]
  }
 ],
 "metadata": {
  "kernelspec": {
   "display_name": "Python 3 (ipykernel)",
   "language": "python",
   "name": "python3"
  },
  "language_info": {
   "codemirror_mode": {
    "name": "ipython",
    "version": 3
   },
   "file_extension": ".py",
   "mimetype": "text/x-python",
   "name": "python",
   "nbconvert_exporter": "python",
   "pygments_lexer": "ipython3",
   "version": "3.9.7"
  }
 },
 "nbformat": 4,
 "nbformat_minor": 5
}
